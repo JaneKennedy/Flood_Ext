{
 "cells": [
  {
   "cell_type": "code",
   "execution_count": null,
   "id": "fa58186b-1397-43d1-bed3-44c5732ac93c",
   "metadata": {},
   "outputs": [],
   "source": [
    "#NDWI load packages\n",
    "\n",
    "import datacube\n",
    "\n",
    "import sys\n",
    "sys.path.insert(1, '../Tools/')\n",
    "from dea_tools.dask import create_local_dask_cluster\n",
    "from dea_tools.plotting import rgb\n"
   ]
  },
  {
   "cell_type": "code",
   "execution_count": null,
   "id": "6f15d19c-93b8-4c89-b491-1a3f12c19a74",
   "metadata": {},
   "outputs": [],
   "source": [
    "# connect to datacube\n",
    "\n",
    "dc = datacube.Datacube(app=\"07_Parallel_processing_with_Dask\")"
   ]
  },
  {
   "cell_type": "code",
   "execution_count": null,
   "id": "2d376f9d-d03c-437c-ac8f-5c155a9c2763",
   "metadata": {},
   "outputs": [],
   "source": [
    "#Enable Dask\n",
    "\n",
    "client = create_local_dask_cluster(return_client=True)"
   ]
  },
  {
   "cell_type": "code",
   "execution_count": null,
   "id": "d3867032-638c-4c09-b674-7672e7fc8b4b",
   "metadata": {},
   "outputs": [],
   "source": [
    "# List Sentinel-2 Surface Reflectance products available in DEA\n",
    "\n",
    "dc_products = dc.list_products()\n",
    "dc_products.loc[['ga_s2am_ard_3', 'ga_s2bm_ard_3']]"
   ]
  },
  {
   "cell_type": "code",
   "execution_count": null,
   "id": "ff5303bc-c595-4400-9f9f-c1bdc4b13cdc",
   "metadata": {},
   "outputs": [],
   "source": [
    "dc_measurements = dc.list_measurements()\n",
    "dc_measurements.loc[['ga_s2am_ard_3']]"
   ]
  },
  {
   "cell_type": "code",
   "execution_count": null,
   "id": "fbeb88f0-c05e-4ac3-b829-a5dfe98c7034",
   "metadata": {},
   "outputs": [],
   "source": [
    "dc_measurements = dc.list_measurements()\n",
    "dc_measurements.loc[['ga_s2bm_ard_3']]"
   ]
  },
  {
   "cell_type": "code",
   "execution_count": null,
   "id": "50ea84ca-2535-46f1-bfb5-b8fcc14bdfbf",
   "metadata": {},
   "outputs": [],
   "source": [
    "# Lazy load data \n",
    "\n",
    "lazy_ds = dc.load(product=[\"'ga_s2am_ard_3\", \"ga_s2bm_ard_3\"],\n",
    "                  measurements=[\"nbart_green\", \"nbart_swir_2\", \"oa_fmask\"],\n",
    "                  x=(150.05, 149.36),\n",
    "                  y=(-37.15, -37.00),\n",
    "                  time=('2020-01-14', '2020-04-14'),\n",
    "                  dask_chunks={\"time\": 1, \"x\": 2048, \"y\": 2048})\n",
    "resampling={\n",
    "                   \"fmask\": \"nearest\",\n",
    "                   \"*\": \"bilinear\"\n",
    "               },\n",
    "\n",
    "\n",
    "\n",
    "lazy_ds"
   ]
  },
  {
   "cell_type": "code",
   "execution_count": null,
   "id": "b87872e9-5dda-49d7-9436-c9d891417d96",
   "metadata": {},
   "outputs": [],
   "source": [
    "resample"
   ]
  },
  {
   "cell_type": "code",
   "execution_count": null,
   "id": "cf4fc207-f7e9-489b-b3d8-b60e6fa00fae",
   "metadata": {},
   "outputs": [],
   "source": [
    "# view dask chunks\n",
    "\n",
    "lazy_ds.nbart_red.data\n"
   ]
  },
  {
   "cell_type": "code",
   "execution_count": null,
   "id": "572e166e-15ef-4437-a45e-6a9868634bab",
   "metadata": {},
   "outputs": [],
   "source": [
    "# Import tools to mask data for cloud\n",
    "\n",
    "import scipy.ndimage\n",
    "import xarray\n",
    "import numpy\n",
    "import datacube\n",
    "from datacube.utils.masking import make_mask\n",
    "from datacube.utils.masking import mask_invalid_data\n",
    "from odc.algo import mask_cleanup\n",
    "\n",
    "import sys\n",
    "sys.path.insert(1, '../Tools/')\n",
    "from dea_tools.plotting import rgb"
   ]
  },
  {
   "cell_type": "code",
   "execution_count": null,
   "id": "a8777a4f-2d32-4825-9415-c8850d622763",
   "metadata": {},
   "outputs": [],
   "source": [
    "# app\n",
    "\n",
    "dc = datacube.Datacube(app=\"Masking_data\")\n",
    "\n",
    "# flags\n",
    "\n",
    "lazy_ds.oa_fmask.attrs[\"flags_definition\"]"
   ]
  },
  {
   "cell_type": "code",
   "execution_count": null,
   "id": "37516112-f2c8-44e6-89e4-efc7046cf036",
   "metadata": {},
   "outputs": [],
   "source": []
  },
  {
   "cell_type": "code",
   "execution_count": null,
   "id": "fd2be2eb-96cb-40b0-ad3c-fdadf0561955",
   "metadata": {},
   "outputs": [],
   "source": [
    "# plot\n",
    "\n",
    "lazy_ds.oa_fmask.plot(col=\"time\", col_wrap=4)"
   ]
  },
  {
   "cell_type": "code",
   "execution_count": null,
   "id": "ce02dbe7-a26c-407b-944b-ba1132e0dfdb",
   "metadata": {},
   "outputs": [],
   "source": [
    "# Create the mask based on \"valid\" pixels\n",
    "\n",
    "clear_mask = make_mask(lazy_ds.oa_fmask, fmask=\"valid\")\n",
    "\n",
    "# Apply the mask\n",
    "\n",
    "clear = lazy_ds.where(clear_mask)\n"
   ]
  },
  {
   "cell_type": "code",
   "execution_count": null,
   "id": "001cdf66-b8c4-43e5-a9cb-97c14593d018",
   "metadata": {},
   "outputs": [],
   "source": [
    "# Plot\n",
    "clear_mask.plot(col=\"time\", col_wrap=4)"
   ]
  },
  {
   "cell_type": "code",
   "execution_count": null,
   "id": "173fd38d-ba77-453b-acd6-100eb3a7c57d",
   "metadata": {},
   "outputs": [],
   "source": []
  },
  {
   "cell_type": "code",
   "execution_count": null,
   "id": "531cd93e-5c21-4ef4-88b0-97cd713653c1",
   "metadata": {},
   "outputs": [],
   "source": [
    "# Identify pixels that are either \"valid\", \"water\" or \"snow\"\n",
    "\n",
    "cloud_free_mask = (\n",
    "    make_mask(lazy_ds.oa_fmask, fmask=\"valid\") | \n",
    "    make_mask(lazy_ds.oa_fmask, fmask=\"water\") | \n",
    "    make_mask(lazy_ds.oa_fmask, fmask=\"snow\")\n",
    ")\n",
    "\n",
    "# Apply the mask\n",
    "cloud_free = lazy_ds.where(cloud_free_mask)"
   ]
  },
  {
   "cell_type": "code",
   "execution_count": null,
   "id": "4562cfa6-bd48-40fc-bbfb-9503927300fa",
   "metadata": {},
   "outputs": [],
   "source": [
    "# Set invalid nodata pixels to NaN\n",
    "\n",
    "valid_data = lazy_ds.oa_fmask.plot\n",
    "valid_data"
   ]
  },
  {
   "cell_type": "code",
   "execution_count": null,
   "id": "197e87a2-294f-4e80-aba3-e5bc02d964ab",
   "metadata": {},
   "outputs": [],
   "source": [
    "# Identify pixels that are either \"cloud\" or \"cloud_shadow\"\n",
    "\n",
    "cloud_shadow_mask = (\n",
    "    make_mask(lazy_ds.oa_fmask, fmask=\"cloud\") | \n",
    "    make_mask(lazy_ds.oa_fmask, fmask=\"shadow\")\n",
    ")\n"
   ]
  },
  {
   "cell_type": "code",
   "execution_count": null,
   "id": "698a0815-753c-4514-b84b-d4ea63c91d16",
   "metadata": {},
   "outputs": [],
   "source": [
    "# Plot cloud shadow mask\n",
    "\n",
    "cloud_shadow_mask.plot(col=\"time\", col_wrap=4)"
   ]
  },
  {
   "cell_type": "code",
   "execution_count": null,
   "id": "5f2e9b69-88a6-484d-9add-fd1f13e85d3d",
   "metadata": {},
   "outputs": [],
   "source": [
    "# Dilate all cloud and cloud shadow pixels by 5 pixels in all directions\n",
    "\n",
    "cloud_shadow_buffered = mask_cleanup(mask=cloud_shadow_mask,\n",
    "                                     mask_filters=[(\"dilation\", 5)])"
   ]
  },
  {
   "cell_type": "code",
   "execution_count": null,
   "id": "9fc3147e-3f34-4e6f-8546-ffae01c31a44",
   "metadata": {},
   "outputs": [],
   "source": [
    "# Plot cloud shadow buffered\n",
    "\n",
    "cloud_shadow_buffered.plot(col=\"time\", col_wrap=4)"
   ]
  },
  {
   "cell_type": "code",
   "execution_count": null,
   "id": "ecc04220-d21d-4ca1-8be4-b8a88e1fe42e",
   "metadata": {},
   "outputs": [],
   "source": [
    "# Apply the mask\n",
    "\n",
    "buffered_cloud_free = lazy_ds.where(~cloud_shadow_buffered)"
   ]
  },
  {
   "cell_type": "code",
   "execution_count": null,
   "id": "9c791327-6cc4-443d-bff0-3774cfd20e37",
   "metadata": {},
   "outputs": [],
   "source": [
    "# Set invalid nodata pixels to NaN\n",
    "\n",
    "valid_data = mask_invalid_data(buffered_cloud_free)"
   ]
  },
  {
   "cell_type": "code",
   "execution_count": null,
   "id": "c65502c0-17af-4a80-af45-edfea0902140",
   "metadata": {},
   "outputs": [],
   "source": [
    "valid_data.nbart_red.isel(time=1)\n"
   ]
  },
  {
   "cell_type": "code",
   "execution_count": null,
   "id": "edfec8db-900c-4d1a-99b0-14ccd328738c",
   "metadata": {},
   "outputs": [],
   "source": [
    "valid_data"
   ]
  },
  {
   "cell_type": "code",
   "execution_count": null,
   "id": "7b6f2815-9022-4350-a6b4-dd0fc8d01fb4",
   "metadata": {},
   "outputs": [],
   "source": [
    "# calc mNDWI\n",
    "\n",
    "band_diff = valid_data.nbart_green - valid_data.nbart_swir_2\n",
    "band_sum = valid_data.nbart_green + valid_data.nbart_swir_2\n",
    "\n",
    "valid_data[\"mndwi\"] = band_diff / band_sum"
   ]
  },
  {
   "cell_type": "code",
   "execution_count": null,
   "id": "cd3fb028-1684-462a-94e7-6dd34b780fce",
   "metadata": {},
   "outputs": [],
   "source": [
    "valid_data"
   ]
  },
  {
   "cell_type": "code",
   "execution_count": null,
   "id": "dcc57054-0516-4c1b-a4ec-2af9fc4264d0",
   "metadata": {},
   "outputs": [],
   "source": [
    "#prob not necessary\n",
    "valid_data.mndwi"
   ]
  },
  {
   "cell_type": "code",
   "execution_count": null,
   "id": "e0057ab7-c5ff-410c-8705-d161cb919ff5",
   "metadata": {},
   "outputs": [],
   "source": [
    "del buffered_cloud_free, cloud_shadow_buffered, cloud_free, clear_mask"
   ]
  },
  {
   "cell_type": "code",
   "execution_count": null,
   "id": "e4ce0eec-8d2e-4ad0-9a3c-e6269b7fbb58",
   "metadata": {},
   "outputs": [],
   "source": [
    "# make data an XArray from Dask\n",
    "\n",
    "ndwi_load = valid_data.mndwi.load()\n",
    "ndwi_load"
   ]
  },
  {
   "cell_type": "code",
   "execution_count": null,
   "id": "fc4bf9f5-017c-4276-995e-e1b7e54218ea",
   "metadata": {},
   "outputs": [],
   "source": [
    "# plot data \n",
    "\n",
    "loaded_ds.mndwi.plot(col='time', col_wrap=5)"
   ]
  },
  {
   "cell_type": "code",
   "execution_count": null,
   "id": "a206eac9-695e-42a1-9e5e-0347316fe370",
   "metadata": {},
   "outputs": [],
   "source": [
    "# create binary water not water data\n",
    "\n",
    "import rasterio\n",
    "import xarray as xr\n",
    "\n",
    "# Extract the NDWI data variable COULD BE WRONG WORKS WITHOUT\n",
    "ndwi_variable = valid_data.mndwi\n",
    "\n",
    "# Set the threshold\n",
    "threshold = 0.3  # Adjust as per your requirement\n",
    "\n",
    "# Create a binary water or no water raster\n",
    "binary_data = ndwi_variable > threshold\n",
    "\n",
    "#binary_data = binary_date.dtype('uint8')"
   ]
  },
  {
   "cell_type": "code",
   "execution_count": null,
   "id": "77ad1c27-088e-41e6-bbf5-b0b0ef261bc8",
   "metadata": {},
   "outputs": [],
   "source": [
    "# Calculate total wetness through time\n",
    "wet_pixels = binary_data.sum(dim=['time'])"
   ]
  },
  {
   "cell_type": "code",
   "execution_count": null,
   "id": "90b941de-e242-446b-b9cb-08ee68506671",
   "metadata": {},
   "outputs": [],
   "source": [
    "wet_pixels"
   ]
  },
  {
   "cell_type": "code",
   "execution_count": null,
   "id": "2e01ffcd-e72e-41a1-84e0-f6b76bb2aef3",
   "metadata": {},
   "outputs": [],
   "source": [
    "#not necessary\n",
    "wet_pixels.plot(size=5, cmap='Blues')"
   ]
  },
  {
   "cell_type": "code",
   "execution_count": null,
   "id": "7caf2c7c-b7b4-4483-a2fb-4c475da8eb8c",
   "metadata": {},
   "outputs": [],
   "source": [
    "wet_pixels.attrs = valid_data.attrs"
   ]
  },
  {
   "cell_type": "code",
   "execution_count": null,
   "id": "7951cbf8-c85e-400f-ae21-f47c1553eabb",
   "metadata": {},
   "outputs": [],
   "source": [
    "#wet_pixels = wo.isel(time=-0).to_array()\n",
    "\n",
    "from datacube.utils.cog import write_cog\n",
    "\n",
    "write_cog (geo_im=wet_pixels,\n",
    "          fname='./Sent_bin_NDWI_sum_slice_2a.tif',\n",
    "          overwrite=True)"
   ]
  },
  {
   "cell_type": "code",
   "execution_count": null,
   "id": "a765e0ac-eee9-40a2-8d04-fca53f60a3d5",
   "metadata": {},
   "outputs": [],
   "source": [
    "#CLOSE DASK\n",
    "\n",
    "client.close()"
   ]
  },
  {
   "cell_type": "code",
   "execution_count": null,
   "id": "d59100bc-c267-4aaa-8b5e-9f0e4ffa81c2",
   "metadata": {},
   "outputs": [],
   "source": [
    "del valid_data, wet_pixels"
   ]
  },
  {
   "cell_type": "code",
   "execution_count": null,
   "id": "79e787b5-9ac3-49a5-a3ea-92d099c525bf",
   "metadata": {},
   "outputs": [],
   "source": []
  }
 ],
 "metadata": {
  "kernelspec": {
   "display_name": "Python 3 (ipykernel)",
   "language": "python",
   "name": "python3"
  },
  "language_info": {
   "codemirror_mode": {
    "name": "ipython",
    "version": 3
   },
   "file_extension": ".py",
   "mimetype": "text/x-python",
   "name": "python",
   "nbconvert_exporter": "python",
   "pygments_lexer": "ipython3",
   "version": "3.8.10"
  }
 },
 "nbformat": 4,
 "nbformat_minor": 5
}
